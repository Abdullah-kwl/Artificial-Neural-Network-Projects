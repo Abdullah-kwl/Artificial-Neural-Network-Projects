{
 "cells": [
  {
   "cell_type": "code",
   "execution_count": 1,
   "id": "141a76f3",
   "metadata": {},
   "outputs": [],
   "source": [
    "import pandas as pd\n",
    "import numpy as np"
   ]
  },
  {
   "cell_type": "code",
   "execution_count": 2,
   "id": "5670520f",
   "metadata": {},
   "outputs": [
    {
     "data": {
      "text/plain": [
       "(10000, 14)"
      ]
     },
     "execution_count": 2,
     "metadata": {},
     "output_type": "execute_result"
    }
   ],
   "source": [
    "df=pd.read_csv('Churn_Modelling.csv')\n",
    "df.shape"
   ]
  },
  {
   "cell_type": "code",
   "execution_count": 3,
   "id": "86adc433",
   "metadata": {},
   "outputs": [
    {
     "data": {
      "text/html": [
       "<div>\n",
       "<style scoped>\n",
       "    .dataframe tbody tr th:only-of-type {\n",
       "        vertical-align: middle;\n",
       "    }\n",
       "\n",
       "    .dataframe tbody tr th {\n",
       "        vertical-align: top;\n",
       "    }\n",
       "\n",
       "    .dataframe thead th {\n",
       "        text-align: right;\n",
       "    }\n",
       "</style>\n",
       "<table border=\"1\" class=\"dataframe\">\n",
       "  <thead>\n",
       "    <tr style=\"text-align: right;\">\n",
       "      <th></th>\n",
       "      <th>RowNumber</th>\n",
       "      <th>CustomerId</th>\n",
       "      <th>Surname</th>\n",
       "      <th>CreditScore</th>\n",
       "      <th>Geography</th>\n",
       "      <th>Gender</th>\n",
       "      <th>Age</th>\n",
       "      <th>Tenure</th>\n",
       "      <th>Balance</th>\n",
       "      <th>NumOfProducts</th>\n",
       "      <th>HasCrCard</th>\n",
       "      <th>IsActiveMember</th>\n",
       "      <th>EstimatedSalary</th>\n",
       "      <th>Exited</th>\n",
       "    </tr>\n",
       "  </thead>\n",
       "  <tbody>\n",
       "    <tr>\n",
       "      <th>0</th>\n",
       "      <td>1</td>\n",
       "      <td>15634602</td>\n",
       "      <td>Hargrave</td>\n",
       "      <td>619</td>\n",
       "      <td>France</td>\n",
       "      <td>Female</td>\n",
       "      <td>42</td>\n",
       "      <td>2</td>\n",
       "      <td>0.00</td>\n",
       "      <td>1</td>\n",
       "      <td>1</td>\n",
       "      <td>1</td>\n",
       "      <td>101348.88</td>\n",
       "      <td>1</td>\n",
       "    </tr>\n",
       "    <tr>\n",
       "      <th>1</th>\n",
       "      <td>2</td>\n",
       "      <td>15647311</td>\n",
       "      <td>Hill</td>\n",
       "      <td>608</td>\n",
       "      <td>Spain</td>\n",
       "      <td>Female</td>\n",
       "      <td>41</td>\n",
       "      <td>1</td>\n",
       "      <td>83807.86</td>\n",
       "      <td>1</td>\n",
       "      <td>0</td>\n",
       "      <td>1</td>\n",
       "      <td>112542.58</td>\n",
       "      <td>0</td>\n",
       "    </tr>\n",
       "    <tr>\n",
       "      <th>2</th>\n",
       "      <td>3</td>\n",
       "      <td>15619304</td>\n",
       "      <td>Onio</td>\n",
       "      <td>502</td>\n",
       "      <td>France</td>\n",
       "      <td>Female</td>\n",
       "      <td>42</td>\n",
       "      <td>8</td>\n",
       "      <td>159660.80</td>\n",
       "      <td>3</td>\n",
       "      <td>1</td>\n",
       "      <td>0</td>\n",
       "      <td>113931.57</td>\n",
       "      <td>1</td>\n",
       "    </tr>\n",
       "    <tr>\n",
       "      <th>3</th>\n",
       "      <td>4</td>\n",
       "      <td>15701354</td>\n",
       "      <td>Boni</td>\n",
       "      <td>699</td>\n",
       "      <td>France</td>\n",
       "      <td>Female</td>\n",
       "      <td>39</td>\n",
       "      <td>1</td>\n",
       "      <td>0.00</td>\n",
       "      <td>2</td>\n",
       "      <td>0</td>\n",
       "      <td>0</td>\n",
       "      <td>93826.63</td>\n",
       "      <td>0</td>\n",
       "    </tr>\n",
       "    <tr>\n",
       "      <th>4</th>\n",
       "      <td>5</td>\n",
       "      <td>15737888</td>\n",
       "      <td>Mitchell</td>\n",
       "      <td>850</td>\n",
       "      <td>Spain</td>\n",
       "      <td>Female</td>\n",
       "      <td>43</td>\n",
       "      <td>2</td>\n",
       "      <td>125510.82</td>\n",
       "      <td>1</td>\n",
       "      <td>1</td>\n",
       "      <td>1</td>\n",
       "      <td>79084.10</td>\n",
       "      <td>0</td>\n",
       "    </tr>\n",
       "  </tbody>\n",
       "</table>\n",
       "</div>"
      ],
      "text/plain": [
       "   RowNumber  CustomerId   Surname  CreditScore Geography  Gender  Age  \\\n",
       "0          1    15634602  Hargrave          619    France  Female   42   \n",
       "1          2    15647311      Hill          608     Spain  Female   41   \n",
       "2          3    15619304      Onio          502    France  Female   42   \n",
       "3          4    15701354      Boni          699    France  Female   39   \n",
       "4          5    15737888  Mitchell          850     Spain  Female   43   \n",
       "\n",
       "   Tenure    Balance  NumOfProducts  HasCrCard  IsActiveMember  \\\n",
       "0       2       0.00              1          1               1   \n",
       "1       1   83807.86              1          0               1   \n",
       "2       8  159660.80              3          1               0   \n",
       "3       1       0.00              2          0               0   \n",
       "4       2  125510.82              1          1               1   \n",
       "\n",
       "   EstimatedSalary  Exited  \n",
       "0        101348.88       1  \n",
       "1        112542.58       0  \n",
       "2        113931.57       1  \n",
       "3         93826.63       0  \n",
       "4         79084.10       0  "
      ]
     },
     "execution_count": 3,
     "metadata": {},
     "output_type": "execute_result"
    }
   ],
   "source": [
    "df.head()"
   ]
  },
  {
   "cell_type": "code",
   "execution_count": 4,
   "id": "446437bf",
   "metadata": {},
   "outputs": [
    {
     "data": {
      "text/plain": [
       "France     5014\n",
       "Germany    2509\n",
       "Spain      2477\n",
       "Name: Geography, dtype: int64"
      ]
     },
     "execution_count": 4,
     "metadata": {},
     "output_type": "execute_result"
    }
   ],
   "source": [
    "df['Geography'].value_counts()"
   ]
  },
  {
   "cell_type": "code",
   "execution_count": 5,
   "id": "574f5a6d",
   "metadata": {},
   "outputs": [
    {
     "data": {
      "text/plain": [
       "Male      5457\n",
       "Female    4543\n",
       "Name: Gender, dtype: int64"
      ]
     },
     "execution_count": 5,
     "metadata": {},
     "output_type": "execute_result"
    }
   ],
   "source": [
    "df['Gender'].value_counts()"
   ]
  },
  {
   "cell_type": "code",
   "execution_count": 6,
   "id": "9628fb94",
   "metadata": {},
   "outputs": [],
   "source": [
    "df.drop(columns = ['RowNumber','CustomerId','Surname'],inplace=True)"
   ]
  },
  {
   "cell_type": "code",
   "execution_count": 7,
   "id": "502f208c",
   "metadata": {},
   "outputs": [],
   "source": [
    "df = pd.get_dummies(df,columns=['Geography','Gender'],drop_first=True)"
   ]
  },
  {
   "cell_type": "code",
   "execution_count": 8,
   "id": "1696bbea",
   "metadata": {},
   "outputs": [
    {
     "data": {
      "text/html": [
       "<div>\n",
       "<style scoped>\n",
       "    .dataframe tbody tr th:only-of-type {\n",
       "        vertical-align: middle;\n",
       "    }\n",
       "\n",
       "    .dataframe tbody tr th {\n",
       "        vertical-align: top;\n",
       "    }\n",
       "\n",
       "    .dataframe thead th {\n",
       "        text-align: right;\n",
       "    }\n",
       "</style>\n",
       "<table border=\"1\" class=\"dataframe\">\n",
       "  <thead>\n",
       "    <tr style=\"text-align: right;\">\n",
       "      <th></th>\n",
       "      <th>CreditScore</th>\n",
       "      <th>Age</th>\n",
       "      <th>Tenure</th>\n",
       "      <th>Balance</th>\n",
       "      <th>NumOfProducts</th>\n",
       "      <th>HasCrCard</th>\n",
       "      <th>IsActiveMember</th>\n",
       "      <th>EstimatedSalary</th>\n",
       "      <th>Exited</th>\n",
       "      <th>Geography_Germany</th>\n",
       "      <th>Geography_Spain</th>\n",
       "      <th>Gender_Male</th>\n",
       "    </tr>\n",
       "  </thead>\n",
       "  <tbody>\n",
       "    <tr>\n",
       "      <th>0</th>\n",
       "      <td>619</td>\n",
       "      <td>42</td>\n",
       "      <td>2</td>\n",
       "      <td>0.00</td>\n",
       "      <td>1</td>\n",
       "      <td>1</td>\n",
       "      <td>1</td>\n",
       "      <td>101348.88</td>\n",
       "      <td>1</td>\n",
       "      <td>0</td>\n",
       "      <td>0</td>\n",
       "      <td>0</td>\n",
       "    </tr>\n",
       "    <tr>\n",
       "      <th>1</th>\n",
       "      <td>608</td>\n",
       "      <td>41</td>\n",
       "      <td>1</td>\n",
       "      <td>83807.86</td>\n",
       "      <td>1</td>\n",
       "      <td>0</td>\n",
       "      <td>1</td>\n",
       "      <td>112542.58</td>\n",
       "      <td>0</td>\n",
       "      <td>0</td>\n",
       "      <td>1</td>\n",
       "      <td>0</td>\n",
       "    </tr>\n",
       "    <tr>\n",
       "      <th>2</th>\n",
       "      <td>502</td>\n",
       "      <td>42</td>\n",
       "      <td>8</td>\n",
       "      <td>159660.80</td>\n",
       "      <td>3</td>\n",
       "      <td>1</td>\n",
       "      <td>0</td>\n",
       "      <td>113931.57</td>\n",
       "      <td>1</td>\n",
       "      <td>0</td>\n",
       "      <td>0</td>\n",
       "      <td>0</td>\n",
       "    </tr>\n",
       "    <tr>\n",
       "      <th>3</th>\n",
       "      <td>699</td>\n",
       "      <td>39</td>\n",
       "      <td>1</td>\n",
       "      <td>0.00</td>\n",
       "      <td>2</td>\n",
       "      <td>0</td>\n",
       "      <td>0</td>\n",
       "      <td>93826.63</td>\n",
       "      <td>0</td>\n",
       "      <td>0</td>\n",
       "      <td>0</td>\n",
       "      <td>0</td>\n",
       "    </tr>\n",
       "    <tr>\n",
       "      <th>4</th>\n",
       "      <td>850</td>\n",
       "      <td>43</td>\n",
       "      <td>2</td>\n",
       "      <td>125510.82</td>\n",
       "      <td>1</td>\n",
       "      <td>1</td>\n",
       "      <td>1</td>\n",
       "      <td>79084.10</td>\n",
       "      <td>0</td>\n",
       "      <td>0</td>\n",
       "      <td>1</td>\n",
       "      <td>0</td>\n",
       "    </tr>\n",
       "  </tbody>\n",
       "</table>\n",
       "</div>"
      ],
      "text/plain": [
       "   CreditScore  Age  Tenure    Balance  NumOfProducts  HasCrCard  \\\n",
       "0          619   42       2       0.00              1          1   \n",
       "1          608   41       1   83807.86              1          0   \n",
       "2          502   42       8  159660.80              3          1   \n",
       "3          699   39       1       0.00              2          0   \n",
       "4          850   43       2  125510.82              1          1   \n",
       "\n",
       "   IsActiveMember  EstimatedSalary  Exited  Geography_Germany  \\\n",
       "0               1        101348.88       1                  0   \n",
       "1               1        112542.58       0                  0   \n",
       "2               0        113931.57       1                  0   \n",
       "3               0         93826.63       0                  0   \n",
       "4               1         79084.10       0                  0   \n",
       "\n",
       "   Geography_Spain  Gender_Male  \n",
       "0                0            0  \n",
       "1                1            0  \n",
       "2                0            0  \n",
       "3                0            0  \n",
       "4                1            0  "
      ]
     },
     "execution_count": 8,
     "metadata": {},
     "output_type": "execute_result"
    }
   ],
   "source": [
    "df.head()"
   ]
  },
  {
   "cell_type": "code",
   "execution_count": 9,
   "id": "6e860872",
   "metadata": {},
   "outputs": [],
   "source": [
    "x = df.drop(columns=['Exited'])\n",
    "y = df['Exited']\n"
   ]
  },
  {
   "cell_type": "code",
   "execution_count": 10,
   "id": "ae5db005",
   "metadata": {},
   "outputs": [],
   "source": [
    "from sklearn.model_selection import train_test_split\n",
    "from sklearn.metrics import accuracy_score\n",
    "from sklearn.preprocessing import StandardScaler\n",
    "\n",
    "import tensorflow as tf\n",
    "from tensorflow import keras\n",
    "from tensorflow.keras import Sequential\n",
    "from tensorflow.keras.layers import Dense ,Dropout"
   ]
  },
  {
   "cell_type": "code",
   "execution_count": 11,
   "id": "5e2632a6",
   "metadata": {},
   "outputs": [],
   "source": [
    "x_train,x_test,y_train,y_test = train_test_split(x,y,test_size=0.2,random_state=0)"
   ]
  },
  {
   "cell_type": "code",
   "execution_count": 12,
   "id": "4b5d3b8a",
   "metadata": {},
   "outputs": [
    {
     "data": {
      "text/plain": [
       "(10000, 11)"
      ]
     },
     "execution_count": 12,
     "metadata": {},
     "output_type": "execute_result"
    }
   ],
   "source": [
    "x.shape"
   ]
  },
  {
   "cell_type": "code",
   "execution_count": 13,
   "id": "673098e6",
   "metadata": {},
   "outputs": [
    {
     "data": {
      "text/plain": [
       "(8000, 11)"
      ]
     },
     "execution_count": 13,
     "metadata": {},
     "output_type": "execute_result"
    }
   ],
   "source": [
    "x_train.shape"
   ]
  },
  {
   "cell_type": "code",
   "execution_count": 14,
   "id": "bc384060",
   "metadata": {},
   "outputs": [],
   "source": [
    "scale=StandardScaler()\n",
    "x_train_scaled=scale.fit_transform(x_train)\n",
    "x_test_scaled=scale.fit_transform(x_test)"
   ]
  },
  {
   "cell_type": "code",
   "execution_count": 15,
   "id": "a2d6b570",
   "metadata": {},
   "outputs": [],
   "source": [
    "model=Sequential()\n",
    "model.add(Dense(17,activation='relu' ,input_dim=11))\n",
    "model.add(Dense(17,activation='relu'))\n",
    "model.add(Dropout(0.2))\n",
    "model.add(Dense(1,activation='sigmoid'))\n"
   ]
  },
  {
   "cell_type": "code",
   "execution_count": 16,
   "id": "4063e018",
   "metadata": {
    "scrolled": true
   },
   "outputs": [
    {
     "name": "stdout",
     "output_type": "stream",
     "text": [
      "Model: \"sequential\"\n",
      "_________________________________________________________________\n",
      " Layer (type)                Output Shape              Param #   \n",
      "=================================================================\n",
      " dense (Dense)               (None, 17)                204       \n",
      "                                                                 \n",
      " dense_1 (Dense)             (None, 17)                306       \n",
      "                                                                 \n",
      " dropout (Dropout)           (None, 17)                0         \n",
      "                                                                 \n",
      " dense_2 (Dense)             (None, 1)                 18        \n",
      "                                                                 \n",
      "=================================================================\n",
      "Total params: 528 (2.06 KB)\n",
      "Trainable params: 528 (2.06 KB)\n",
      "Non-trainable params: 0 (0.00 Byte)\n",
      "_________________________________________________________________\n"
     ]
    }
   ],
   "source": [
    "model.summary()"
   ]
  },
  {
   "cell_type": "code",
   "execution_count": 17,
   "id": "5cd576ab",
   "metadata": {},
   "outputs": [],
   "source": [
    "model.compile(optimizer='Adam', loss='binary_crossentropy' , metrics=['accuracy'])"
   ]
  },
  {
   "cell_type": "code",
   "execution_count": 18,
   "id": "2b4710fb",
   "metadata": {},
   "outputs": [
    {
     "name": "stdout",
     "output_type": "stream",
     "text": [
      "Epoch 1/70\n",
      "200/200 [==============================] - 1s 3ms/step - loss: 0.4963 - accuracy: 0.7884 - val_loss: 0.4393 - val_accuracy: 0.8056\n",
      "Epoch 2/70\n",
      "200/200 [==============================] - 0s 2ms/step - loss: 0.4463 - accuracy: 0.8075 - val_loss: 0.4212 - val_accuracy: 0.8169\n",
      "Epoch 3/70\n",
      "200/200 [==============================] - 0s 2ms/step - loss: 0.4243 - accuracy: 0.8183 - val_loss: 0.4121 - val_accuracy: 0.8206\n",
      "Epoch 4/70\n",
      "200/200 [==============================] - 0s 2ms/step - loss: 0.4135 - accuracy: 0.8239 - val_loss: 0.4014 - val_accuracy: 0.8244\n",
      "Epoch 5/70\n",
      "200/200 [==============================] - 0s 2ms/step - loss: 0.3986 - accuracy: 0.8330 - val_loss: 0.3876 - val_accuracy: 0.8313\n",
      "Epoch 6/70\n",
      "200/200 [==============================] - 0s 2ms/step - loss: 0.3854 - accuracy: 0.8402 - val_loss: 0.3788 - val_accuracy: 0.8388\n",
      "Epoch 7/70\n",
      "200/200 [==============================] - 0s 2ms/step - loss: 0.3737 - accuracy: 0.8444 - val_loss: 0.3711 - val_accuracy: 0.8413\n",
      "Epoch 8/70\n",
      "200/200 [==============================] - 0s 2ms/step - loss: 0.3678 - accuracy: 0.8467 - val_loss: 0.3678 - val_accuracy: 0.8456\n",
      "Epoch 9/70\n",
      "200/200 [==============================] - 0s 2ms/step - loss: 0.3606 - accuracy: 0.8514 - val_loss: 0.3674 - val_accuracy: 0.8494\n",
      "Epoch 10/70\n",
      "200/200 [==============================] - 0s 2ms/step - loss: 0.3602 - accuracy: 0.8517 - val_loss: 0.3635 - val_accuracy: 0.8519\n",
      "Epoch 11/70\n",
      "200/200 [==============================] - 0s 2ms/step - loss: 0.3564 - accuracy: 0.8539 - val_loss: 0.3620 - val_accuracy: 0.8506\n",
      "Epoch 12/70\n",
      "200/200 [==============================] - 0s 2ms/step - loss: 0.3501 - accuracy: 0.8556 - val_loss: 0.3612 - val_accuracy: 0.8550\n",
      "Epoch 13/70\n",
      "200/200 [==============================] - 0s 2ms/step - loss: 0.3508 - accuracy: 0.8577 - val_loss: 0.3608 - val_accuracy: 0.8544\n",
      "Epoch 14/70\n",
      "200/200 [==============================] - 0s 2ms/step - loss: 0.3486 - accuracy: 0.8577 - val_loss: 0.3609 - val_accuracy: 0.8537\n",
      "Epoch 15/70\n",
      "200/200 [==============================] - 0s 2ms/step - loss: 0.3486 - accuracy: 0.8600 - val_loss: 0.3605 - val_accuracy: 0.8556\n",
      "Epoch 16/70\n",
      "200/200 [==============================] - 0s 2ms/step - loss: 0.3412 - accuracy: 0.8625 - val_loss: 0.3604 - val_accuracy: 0.8544\n",
      "Epoch 17/70\n",
      "200/200 [==============================] - 0s 2ms/step - loss: 0.3483 - accuracy: 0.8600 - val_loss: 0.3590 - val_accuracy: 0.8544\n",
      "Epoch 18/70\n",
      "200/200 [==============================] - 0s 2ms/step - loss: 0.3425 - accuracy: 0.8595 - val_loss: 0.3611 - val_accuracy: 0.8537\n",
      "Epoch 19/70\n",
      "200/200 [==============================] - 0s 2ms/step - loss: 0.3468 - accuracy: 0.8609 - val_loss: 0.3596 - val_accuracy: 0.8531\n",
      "Epoch 20/70\n",
      "200/200 [==============================] - 0s 2ms/step - loss: 0.3427 - accuracy: 0.8587 - val_loss: 0.3578 - val_accuracy: 0.8562\n",
      "Epoch 21/70\n",
      "200/200 [==============================] - 0s 2ms/step - loss: 0.3398 - accuracy: 0.8630 - val_loss: 0.3580 - val_accuracy: 0.8562\n",
      "Epoch 22/70\n",
      "200/200 [==============================] - 0s 2ms/step - loss: 0.3393 - accuracy: 0.8639 - val_loss: 0.3572 - val_accuracy: 0.8556\n",
      "Epoch 23/70\n",
      "200/200 [==============================] - 0s 2ms/step - loss: 0.3371 - accuracy: 0.8642 - val_loss: 0.3602 - val_accuracy: 0.8500\n",
      "Epoch 24/70\n",
      "200/200 [==============================] - 0s 2ms/step - loss: 0.3411 - accuracy: 0.8612 - val_loss: 0.3584 - val_accuracy: 0.8531\n",
      "Epoch 25/70\n",
      "200/200 [==============================] - 0s 2ms/step - loss: 0.3380 - accuracy: 0.8647 - val_loss: 0.3593 - val_accuracy: 0.8537\n",
      "Epoch 26/70\n",
      "200/200 [==============================] - 0s 2ms/step - loss: 0.3381 - accuracy: 0.8620 - val_loss: 0.3568 - val_accuracy: 0.8519\n",
      "Epoch 27/70\n",
      "200/200 [==============================] - 0s 2ms/step - loss: 0.3380 - accuracy: 0.8641 - val_loss: 0.3565 - val_accuracy: 0.8550\n",
      "Epoch 28/70\n",
      "200/200 [==============================] - 0s 2ms/step - loss: 0.3387 - accuracy: 0.8644 - val_loss: 0.3568 - val_accuracy: 0.8512\n",
      "Epoch 29/70\n",
      "200/200 [==============================] - 0s 2ms/step - loss: 0.3387 - accuracy: 0.8641 - val_loss: 0.3572 - val_accuracy: 0.8512\n",
      "Epoch 30/70\n",
      "200/200 [==============================] - 0s 2ms/step - loss: 0.3366 - accuracy: 0.8620 - val_loss: 0.3577 - val_accuracy: 0.8525\n",
      "Epoch 31/70\n",
      "200/200 [==============================] - 0s 2ms/step - loss: 0.3371 - accuracy: 0.8623 - val_loss: 0.3571 - val_accuracy: 0.8537\n",
      "Epoch 32/70\n",
      "200/200 [==============================] - 0s 2ms/step - loss: 0.3381 - accuracy: 0.8603 - val_loss: 0.3569 - val_accuracy: 0.8494\n",
      "Epoch 33/70\n",
      "200/200 [==============================] - 0s 2ms/step - loss: 0.3320 - accuracy: 0.8634 - val_loss: 0.3575 - val_accuracy: 0.8500\n",
      "Epoch 34/70\n",
      "200/200 [==============================] - 0s 2ms/step - loss: 0.3364 - accuracy: 0.8641 - val_loss: 0.3578 - val_accuracy: 0.8519\n",
      "Epoch 35/70\n",
      "200/200 [==============================] - 0s 2ms/step - loss: 0.3322 - accuracy: 0.8633 - val_loss: 0.3576 - val_accuracy: 0.8544\n",
      "Epoch 36/70\n",
      "200/200 [==============================] - 0s 2ms/step - loss: 0.3326 - accuracy: 0.8623 - val_loss: 0.3571 - val_accuracy: 0.8531\n",
      "Epoch 37/70\n",
      "200/200 [==============================] - 0s 2ms/step - loss: 0.3337 - accuracy: 0.8650 - val_loss: 0.3573 - val_accuracy: 0.8544\n",
      "Epoch 38/70\n",
      "200/200 [==============================] - 0s 2ms/step - loss: 0.3310 - accuracy: 0.8633 - val_loss: 0.3573 - val_accuracy: 0.8537\n",
      "Epoch 39/70\n",
      "200/200 [==============================] - 0s 2ms/step - loss: 0.3315 - accuracy: 0.8639 - val_loss: 0.3582 - val_accuracy: 0.8475\n",
      "Epoch 40/70\n",
      "200/200 [==============================] - 0s 2ms/step - loss: 0.3330 - accuracy: 0.8630 - val_loss: 0.3585 - val_accuracy: 0.8494\n",
      "Epoch 41/70\n",
      "200/200 [==============================] - 0s 2ms/step - loss: 0.3317 - accuracy: 0.8664 - val_loss: 0.3593 - val_accuracy: 0.8469\n",
      "Epoch 42/70\n",
      "200/200 [==============================] - 0s 2ms/step - loss: 0.3320 - accuracy: 0.8650 - val_loss: 0.3585 - val_accuracy: 0.8506\n",
      "Epoch 43/70\n",
      "200/200 [==============================] - 0s 2ms/step - loss: 0.3300 - accuracy: 0.8662 - val_loss: 0.3584 - val_accuracy: 0.8512\n",
      "Epoch 44/70\n",
      "200/200 [==============================] - 0s 2ms/step - loss: 0.3338 - accuracy: 0.8658 - val_loss: 0.3577 - val_accuracy: 0.8544\n",
      "Epoch 45/70\n",
      "200/200 [==============================] - 0s 2ms/step - loss: 0.3299 - accuracy: 0.8662 - val_loss: 0.3582 - val_accuracy: 0.8506\n",
      "Epoch 46/70\n",
      "200/200 [==============================] - 0s 2ms/step - loss: 0.3316 - accuracy: 0.8634 - val_loss: 0.3576 - val_accuracy: 0.8531\n",
      "Epoch 47/70\n",
      "200/200 [==============================] - 0s 2ms/step - loss: 0.3328 - accuracy: 0.8637 - val_loss: 0.3579 - val_accuracy: 0.8494\n",
      "Epoch 48/70\n",
      "200/200 [==============================] - 0s 2ms/step - loss: 0.3284 - accuracy: 0.8661 - val_loss: 0.3585 - val_accuracy: 0.8494\n",
      "Epoch 49/70\n",
      "200/200 [==============================] - 0s 2ms/step - loss: 0.3309 - accuracy: 0.8634 - val_loss: 0.3570 - val_accuracy: 0.8506\n",
      "Epoch 50/70\n",
      "200/200 [==============================] - 0s 2ms/step - loss: 0.3290 - accuracy: 0.8670 - val_loss: 0.3570 - val_accuracy: 0.8525\n",
      "Epoch 51/70\n",
      "200/200 [==============================] - 0s 2ms/step - loss: 0.3287 - accuracy: 0.8673 - val_loss: 0.3580 - val_accuracy: 0.8494\n",
      "Epoch 52/70\n",
      "200/200 [==============================] - 0s 2ms/step - loss: 0.3321 - accuracy: 0.8661 - val_loss: 0.3566 - val_accuracy: 0.8525\n",
      "Epoch 53/70\n",
      "200/200 [==============================] - 0s 2ms/step - loss: 0.3295 - accuracy: 0.8658 - val_loss: 0.3570 - val_accuracy: 0.8512\n",
      "Epoch 54/70\n",
      "200/200 [==============================] - 0s 2ms/step - loss: 0.3312 - accuracy: 0.8656 - val_loss: 0.3568 - val_accuracy: 0.8519\n",
      "Epoch 55/70\n",
      "200/200 [==============================] - 0s 2ms/step - loss: 0.3283 - accuracy: 0.8672 - val_loss: 0.3563 - val_accuracy: 0.8556\n",
      "Epoch 56/70\n",
      "200/200 [==============================] - 0s 2ms/step - loss: 0.3271 - accuracy: 0.8653 - val_loss: 0.3569 - val_accuracy: 0.8556\n",
      "Epoch 57/70\n",
      "200/200 [==============================] - 0s 2ms/step - loss: 0.3286 - accuracy: 0.8636 - val_loss: 0.3588 - val_accuracy: 0.8544\n",
      "Epoch 58/70\n"
     ]
    },
    {
     "name": "stdout",
     "output_type": "stream",
     "text": [
      "200/200 [==============================] - 0s 2ms/step - loss: 0.3261 - accuracy: 0.8659 - val_loss: 0.3589 - val_accuracy: 0.8562\n",
      "Epoch 59/70\n",
      "200/200 [==============================] - 0s 2ms/step - loss: 0.3307 - accuracy: 0.8670 - val_loss: 0.3582 - val_accuracy: 0.8544\n",
      "Epoch 60/70\n",
      "200/200 [==============================] - 0s 2ms/step - loss: 0.3274 - accuracy: 0.8644 - val_loss: 0.3571 - val_accuracy: 0.8525\n",
      "Epoch 61/70\n",
      "200/200 [==============================] - 0s 2ms/step - loss: 0.3283 - accuracy: 0.8673 - val_loss: 0.3571 - val_accuracy: 0.8500\n",
      "Epoch 62/70\n",
      "200/200 [==============================] - 0s 2ms/step - loss: 0.3272 - accuracy: 0.8642 - val_loss: 0.3576 - val_accuracy: 0.8537\n",
      "Epoch 63/70\n",
      "200/200 [==============================] - 0s 2ms/step - loss: 0.3285 - accuracy: 0.8673 - val_loss: 0.3562 - val_accuracy: 0.8531\n",
      "Epoch 64/70\n",
      "200/200 [==============================] - 0s 2ms/step - loss: 0.3281 - accuracy: 0.8672 - val_loss: 0.3565 - val_accuracy: 0.8512\n",
      "Epoch 65/70\n",
      "200/200 [==============================] - 0s 2ms/step - loss: 0.3257 - accuracy: 0.8670 - val_loss: 0.3566 - val_accuracy: 0.8537\n",
      "Epoch 66/70\n",
      "200/200 [==============================] - 0s 2ms/step - loss: 0.3272 - accuracy: 0.8664 - val_loss: 0.3583 - val_accuracy: 0.8519\n",
      "Epoch 67/70\n",
      "200/200 [==============================] - 0s 2ms/step - loss: 0.3267 - accuracy: 0.8672 - val_loss: 0.3593 - val_accuracy: 0.8500\n",
      "Epoch 68/70\n",
      "200/200 [==============================] - 0s 2ms/step - loss: 0.3275 - accuracy: 0.8659 - val_loss: 0.3580 - val_accuracy: 0.8525\n",
      "Epoch 69/70\n",
      "200/200 [==============================] - 0s 2ms/step - loss: 0.3226 - accuracy: 0.8683 - val_loss: 0.3572 - val_accuracy: 0.8506\n",
      "Epoch 70/70\n",
      "200/200 [==============================] - 0s 2ms/step - loss: 0.3276 - accuracy: 0.8672 - val_loss: 0.3573 - val_accuracy: 0.8531\n"
     ]
    }
   ],
   "source": [
    "history = model.fit(x_train_scaled,y_train,epochs=70 ,validation_split=0.2 )"
   ]
  },
  {
   "cell_type": "code",
   "execution_count": 19,
   "id": "8d215c58",
   "metadata": {},
   "outputs": [
    {
     "data": {
      "text/plain": [
       "[array([[-4.57637869e-02,  1.09455064e-02, -2.43026540e-01,\n",
       "         -2.22585816e-02, -3.74852195e-02,  1.17971048e-01,\n",
       "         -6.26226738e-02, -2.24503651e-01,  3.70901427e-03,\n",
       "          1.57352224e-01,  1.07092254e-01,  6.07113019e-02,\n",
       "         -7.89980069e-02,  6.02903403e-02,  1.87853649e-01,\n",
       "          2.89395332e-01, -1.87242284e-01],\n",
       "        [-1.39359325e-01,  8.08462858e-01, -6.39687106e-02,\n",
       "          5.99781632e-01,  6.83258593e-01, -7.07734585e-01,\n",
       "          1.17206186e-01,  7.53690824e-02, -2.19248086e-01,\n",
       "         -5.27344584e-01,  1.21103950e-01, -1.98189586e-01,\n",
       "          4.24743652e-01, -2.93321073e-01, -1.54443875e-01,\n",
       "         -4.38315004e-01, -1.54327512e-01],\n",
       "        [ 1.65145412e-01, -9.84759629e-02, -3.33562940e-01,\n",
       "          2.16616318e-02,  6.13400899e-02, -2.62273662e-02,\n",
       "          3.30457129e-02,  1.55237690e-01, -7.52287079e-03,\n",
       "          2.07107410e-01,  1.78622201e-01, -7.59263188e-02,\n",
       "          2.08461046e-01,  1.89269841e-01, -2.46252745e-01,\n",
       "         -3.35181981e-01,  3.23281974e-01],\n",
       "        [-3.67506385e-01, -2.12466437e-02,  5.94390593e-02,\n",
       "         -7.73490965e-01, -2.34764203e-01, -1.85677215e-01,\n",
       "          1.94906682e-01,  7.29898438e-02,  2.48666614e-01,\n",
       "         -2.00356796e-01, -4.77393381e-02, -2.53690183e-01,\n",
       "         -2.58662403e-01, -1.59061193e-01,  1.62797898e-01,\n",
       "         -2.84326881e-01, -3.86673391e-01],\n",
       "        [ 1.74552619e-01,  9.15464520e-01, -5.31995669e-03,\n",
       "         -1.09815443e+00, -2.68994898e-01, -2.31005087e-01,\n",
       "          7.78306901e-01,  6.09112620e-01,  4.75938283e-02,\n",
       "         -1.25795722e-01,  4.33071673e-01,  2.47078221e-02,\n",
       "          3.55260342e-01,  3.97670902e-02,  9.90850106e-03,\n",
       "          6.01333268e-02,  9.26576629e-02],\n",
       "        [-5.67890294e-02, -1.81397408e-01,  2.57640213e-01,\n",
       "         -5.66501520e-04,  3.78731526e-02, -6.03097826e-02,\n",
       "         -9.64969620e-02,  2.66839951e-01,  1.94961593e-01,\n",
       "          5.29311717e-01, -1.77626342e-01, -1.73187360e-01,\n",
       "          3.32619697e-01, -4.17824239e-02, -3.62700105e-01,\n",
       "          2.74223477e-01, -2.10752666e-01],\n",
       "        [-2.62737572e-01,  2.79052645e-01,  4.64084804e-01,\n",
       "         -1.16525650e-01,  9.56316531e-01, -2.95350552e-01,\n",
       "         -2.51362491e-02, -2.31068447e-01,  1.51265204e-01,\n",
       "         -7.72717670e-02,  7.18982518e-01,  3.46242547e-01,\n",
       "          4.35997456e-01, -1.32535815e-01, -1.48997411e-01,\n",
       "          6.62607001e-03,  3.80207390e-01],\n",
       "        [-1.59844562e-01, -1.31499499e-01, -4.82712053e-02,\n",
       "          8.47315118e-02, -1.70706995e-02,  8.00881684e-02,\n",
       "          6.70011668e-03, -6.58201203e-02, -1.89698994e-01,\n",
       "          2.52599210e-01, -2.70261392e-02, -4.67638671e-02,\n",
       "          4.27382737e-02, -3.81313294e-01,  2.77456999e-01,\n",
       "          2.10165977e-01,  1.13344848e-01],\n",
       "        [-4.63552296e-01, -9.88713093e-03,  2.16322973e-01,\n",
       "          4.77077544e-01, -1.61198571e-01,  7.02614561e-02,\n",
       "         -2.83465922e-01,  1.53896704e-01, -4.31641042e-01,\n",
       "          2.14834139e-01,  3.67150217e-01, -5.56706965e-01,\n",
       "          1.99942812e-01,  1.12625360e-01,  5.27369790e-02,\n",
       "         -1.89664245e-01,  3.55823517e-01],\n",
       "        [-2.34707594e-01, -1.28397167e-01, -4.42634165e-01,\n",
       "         -1.94437444e-01,  5.76491728e-02, -3.96462590e-01,\n",
       "         -7.79348705e-03,  1.81181356e-01, -4.49626058e-01,\n",
       "         -4.73323822e-01,  3.94117057e-01,  9.45977196e-02,\n",
       "         -1.55069411e-01, -3.03087607e-02, -4.99011904e-01,\n",
       "          3.93350929e-01, -2.19712052e-02],\n",
       "        [-8.34462116e-04,  3.26638371e-02, -1.27283901e-01,\n",
       "         -8.88592750e-02,  1.90302595e-01,  1.06688626e-01,\n",
       "          5.35346493e-02,  1.39996424e-01,  5.23748398e-01,\n",
       "         -9.35494006e-02, -2.05939218e-01,  3.87779772e-01,\n",
       "         -1.24521978e-01, -6.15820944e-01,  2.24271752e-02,\n",
       "         -1.40178092e-02,  5.80314815e-01]], dtype=float32),\n",
       " array([ 0.33992636, -0.37828743, -0.1163214 ,  0.06929105, -0.4854636 ,\n",
       "         0.58988833, -0.59034675, -0.01372011,  0.20612502,  0.1805704 ,\n",
       "         0.06194955,  0.16970807, -0.26361138,  0.23765555,  0.04134845,\n",
       "         0.09956772, -0.25315356], dtype=float32)]"
      ]
     },
     "execution_count": 19,
     "metadata": {},
     "output_type": "execute_result"
    }
   ],
   "source": [
    "# layer no 1\n",
    "model.layers[0].get_weights()"
   ]
  },
  {
   "cell_type": "code",
   "execution_count": 20,
   "id": "1acf555e",
   "metadata": {},
   "outputs": [],
   "source": [
    "import matplotlib.pyplot as plt\n"
   ]
  },
  {
   "cell_type": "code",
   "execution_count": 21,
   "id": "877881ae",
   "metadata": {},
   "outputs": [
    {
     "data": {
      "text/html": [
       "<div>\n",
       "<style scoped>\n",
       "    .dataframe tbody tr th:only-of-type {\n",
       "        vertical-align: middle;\n",
       "    }\n",
       "\n",
       "    .dataframe tbody tr th {\n",
       "        vertical-align: top;\n",
       "    }\n",
       "\n",
       "    .dataframe thead th {\n",
       "        text-align: right;\n",
       "    }\n",
       "</style>\n",
       "<table border=\"1\" class=\"dataframe\">\n",
       "  <thead>\n",
       "    <tr style=\"text-align: right;\">\n",
       "      <th></th>\n",
       "      <th>loss</th>\n",
       "      <th>accuracy</th>\n",
       "      <th>val_loss</th>\n",
       "      <th>val_accuracy</th>\n",
       "    </tr>\n",
       "  </thead>\n",
       "  <tbody>\n",
       "    <tr>\n",
       "      <th>0</th>\n",
       "      <td>0.496320</td>\n",
       "      <td>0.788437</td>\n",
       "      <td>0.439303</td>\n",
       "      <td>0.805625</td>\n",
       "    </tr>\n",
       "    <tr>\n",
       "      <th>1</th>\n",
       "      <td>0.446274</td>\n",
       "      <td>0.807500</td>\n",
       "      <td>0.421167</td>\n",
       "      <td>0.816875</td>\n",
       "    </tr>\n",
       "    <tr>\n",
       "      <th>2</th>\n",
       "      <td>0.424335</td>\n",
       "      <td>0.818281</td>\n",
       "      <td>0.412101</td>\n",
       "      <td>0.820625</td>\n",
       "    </tr>\n",
       "    <tr>\n",
       "      <th>3</th>\n",
       "      <td>0.413483</td>\n",
       "      <td>0.823906</td>\n",
       "      <td>0.401419</td>\n",
       "      <td>0.824375</td>\n",
       "    </tr>\n",
       "    <tr>\n",
       "      <th>4</th>\n",
       "      <td>0.398572</td>\n",
       "      <td>0.832969</td>\n",
       "      <td>0.387619</td>\n",
       "      <td>0.831250</td>\n",
       "    </tr>\n",
       "    <tr>\n",
       "      <th>...</th>\n",
       "      <td>...</td>\n",
       "      <td>...</td>\n",
       "      <td>...</td>\n",
       "      <td>...</td>\n",
       "    </tr>\n",
       "    <tr>\n",
       "      <th>65</th>\n",
       "      <td>0.327163</td>\n",
       "      <td>0.866406</td>\n",
       "      <td>0.358314</td>\n",
       "      <td>0.851875</td>\n",
       "    </tr>\n",
       "    <tr>\n",
       "      <th>66</th>\n",
       "      <td>0.326720</td>\n",
       "      <td>0.867188</td>\n",
       "      <td>0.359294</td>\n",
       "      <td>0.850000</td>\n",
       "    </tr>\n",
       "    <tr>\n",
       "      <th>67</th>\n",
       "      <td>0.327535</td>\n",
       "      <td>0.865937</td>\n",
       "      <td>0.357962</td>\n",
       "      <td>0.852500</td>\n",
       "    </tr>\n",
       "    <tr>\n",
       "      <th>68</th>\n",
       "      <td>0.322553</td>\n",
       "      <td>0.868281</td>\n",
       "      <td>0.357220</td>\n",
       "      <td>0.850625</td>\n",
       "    </tr>\n",
       "    <tr>\n",
       "      <th>69</th>\n",
       "      <td>0.327576</td>\n",
       "      <td>0.867188</td>\n",
       "      <td>0.357294</td>\n",
       "      <td>0.853125</td>\n",
       "    </tr>\n",
       "  </tbody>\n",
       "</table>\n",
       "<p>70 rows × 4 columns</p>\n",
       "</div>"
      ],
      "text/plain": [
       "        loss  accuracy  val_loss  val_accuracy\n",
       "0   0.496320  0.788437  0.439303      0.805625\n",
       "1   0.446274  0.807500  0.421167      0.816875\n",
       "2   0.424335  0.818281  0.412101      0.820625\n",
       "3   0.413483  0.823906  0.401419      0.824375\n",
       "4   0.398572  0.832969  0.387619      0.831250\n",
       "..       ...       ...       ...           ...\n",
       "65  0.327163  0.866406  0.358314      0.851875\n",
       "66  0.326720  0.867188  0.359294      0.850000\n",
       "67  0.327535  0.865937  0.357962      0.852500\n",
       "68  0.322553  0.868281  0.357220      0.850625\n",
       "69  0.327576  0.867188  0.357294      0.853125\n",
       "\n",
       "[70 rows x 4 columns]"
      ]
     },
     "execution_count": 21,
     "metadata": {},
     "output_type": "execute_result"
    }
   ],
   "source": [
    "pd.DataFrame(history.history)"
   ]
  },
  {
   "cell_type": "code",
   "execution_count": 22,
   "id": "f021dada",
   "metadata": {},
   "outputs": [
    {
     "data": {
      "text/plain": [
       "[<matplotlib.lines.Line2D at 0x2a7803a6dc0>]"
      ]
     },
     "execution_count": 22,
     "metadata": {},
     "output_type": "execute_result"
    },
    {
     "data": {
      "image/png": "[encoded data removed]",
      "text/plain": [
       "<Figure size 640x480 with 1 Axes>"
      ]
     },
     "metadata": {},
     "output_type": "display_data"
    }
   ],
   "source": [
    "plt.plot(pd.DataFrame(history.history)['accuracy'])\n",
    "plt.plot(pd.DataFrame(history.history)['val_accuracy'])"
   ]
  },
  {
   "cell_type": "code",
   "execution_count": 23,
   "id": "9f06cb1f",
   "metadata": {},
   "outputs": [
    {
     "name": "stdout",
     "output_type": "stream",
     "text": [
      "63/63 [==============================] - 0s 2ms/step\n"
     ]
    },
    {
     "data": {
      "text/plain": [
       "array([[0.22420414],\n",
       "       [0.29588673],\n",
       "       [0.15047   ],\n",
       "       ...,\n",
       "       [0.34225345],\n",
       "       [0.14598207],\n",
       "       [0.25096372]], dtype=float32)"
      ]
     },
     "execution_count": 23,
     "metadata": {},
     "output_type": "execute_result"
    }
   ],
   "source": [
    "y_log=model.predict(x_test_scaled)\n",
    "y_log"
   ]
  },
  {
   "cell_type": "code",
   "execution_count": 24,
   "id": "504e7949",
   "metadata": {},
   "outputs": [],
   "source": [
    "y_pred=np.where(y_log>0.5,1,0)"
   ]
  },
  {
   "cell_type": "code",
   "execution_count": 25,
   "id": "ab3b37ca",
   "metadata": {},
   "outputs": [
    {
     "data": {
      "text/plain": [
       "0.862"
      ]
     },
     "execution_count": 25,
     "metadata": {},
     "output_type": "execute_result"
    }
   ],
   "source": [
    "score=accuracy_score(y_pred,y_test)\n",
    "score"
   ]
  },
  {
   "cell_type": "code",
   "execution_count": 26,
   "id": "1af6ed02",
   "metadata": {},
   "outputs": [
    {
     "data": {
      "text/plain": [
       "[<matplotlib.lines.Line2D at 0x2a782421a00>]"
      ]
     },
     "execution_count": 26,
     "metadata": {},
     "output_type": "execute_result"
    },
    {
     "data": {
      "image/png": "[encoded data removed]",
      "text/plain": [
       "<Figure size 640x480 with 1 Axes>"
      ]
     },
     "metadata": {},
     "output_type": "display_data"
    }
   ],
   "source": [
    "plt.plot(pd.DataFrame(history.history)['loss'])\n",
    "plt.plot(pd.DataFrame(history.history)['val_loss'])"
   ]
  },
  {
   "cell_type": "markdown",
   "id": "8a6fdaa9",
   "metadata": {},
   "source": [
    "### Accuracy 0.862"
   ]
  }
 ],
 "metadata": {
  "kernelspec": {
   "display_name": "Python 3 (ipykernel)",
   "language": "python",
   "name": "python3"
  },
  "language_info": {
   "codemirror_mode": {
    "name": "ipython",
    "version": 3
   },
   "file_extension": ".py",
   "mimetype": "text/x-python",
   "name": "python",
   "nbconvert_exporter": "python",
   "pygments_lexer": "ipython3",
   "version": "3.9.2"
  }
 },
 "nbformat": 4,
 "nbformat_minor": 5
}
